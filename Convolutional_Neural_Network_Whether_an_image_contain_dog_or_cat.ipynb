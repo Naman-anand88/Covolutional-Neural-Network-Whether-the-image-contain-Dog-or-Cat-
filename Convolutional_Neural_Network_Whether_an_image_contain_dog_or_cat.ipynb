{
  "nbformat": 4,
  "nbformat_minor": 0,
  "metadata": {
    "colab": {
      "provenance": [],
      "authorship_tag": "ABX9TyNC/cuZCL9XzAMVT8YkocRj"
    },
    "kernelspec": {
      "name": "python3",
      "display_name": "Python 3"
    },
    "language_info": {
      "name": "python"
    },
    "accelerator": "GPU",
    "gpuClass": "standard"
  },
  "cells": [
    {
      "cell_type": "code",
      "execution_count": 1,
      "metadata": {
        "colab": {
          "base_uri": "https://localhost:8080/"
        },
        "id": "QdM9zFRNlnBh",
        "outputId": "93b9447f-2c2d-46ae-ac9a-9b7e91fb8b9b"
      },
      "outputs": [
        {
          "output_type": "stream",
          "name": "stdout",
          "text": [
            "Cloning into './data'...\n",
            "remote: Enumerating objects: 25027, done.\u001b[K\n",
            "remote: Total 25027 (delta 0), reused 0 (delta 0), pack-reused 25027\u001b[K\n",
            "Receiving objects: 100% (25027/25027), 541.62 MiB | 30.75 MiB/s, done.\n",
            "Resolving deltas: 100% (5/5), done.\n",
            "Updating files: 100% (25001/25001), done.\n"
          ]
        }
      ],
      "source": [
        "!git clone https://github.com/laxmimerit/dog-cat-full-dataset ./data"
      ]
    },
    {
      "cell_type": "code",
      "source": [
        "import tensorflow as tf\n",
        "from keras.preprocessing.image import ImageDataGenerator"
      ],
      "metadata": {
        "id": "pKlgECsBnQQI"
      },
      "execution_count": 2,
      "outputs": []
    },
    {
      "cell_type": "code",
      "source": [
        "tf.__version__"
      ],
      "metadata": {
        "colab": {
          "base_uri": "https://localhost:8080/",
          "height": 36
        },
        "id": "wbQ4xePnneJN",
        "outputId": "0f86affb-f12e-4436-ef81-105089e8874b"
      },
      "execution_count": 3,
      "outputs": [
        {
          "output_type": "execute_result",
          "data": {
            "text/plain": [
              "'2.12.0'"
            ],
            "application/vnd.google.colaboratory.intrinsic+json": {
              "type": "string"
            }
          },
          "metadata": {},
          "execution_count": 3
        }
      ]
    },
    {
      "cell_type": "code",
      "source": [
        "import pandas as pd"
      ],
      "metadata": {
        "id": "bPdNoiEknirK"
      },
      "execution_count": 4,
      "outputs": []
    },
    {
      "cell_type": "markdown",
      "source": [
        "# Data Preprocessing"
      ],
      "metadata": {
        "id": "RzIprR-ColO5"
      }
    },
    {
      "cell_type": "code",
      "source": [
        "train_data = ImageDataGenerator(rescale = 1./255,\n",
        "                                   shear_range = 0.2,\n",
        "                                   zoom_range = 0.2,\n",
        "                                   horizontal_flip = True)\n",
        "\n",
        "training_set = train_data.flow_from_directory('/content/data/data/train',\n",
        "                                                 target_size = (64, 64),\n",
        "                                                 batch_size = 32,\n",
        "                                                 class_mode = 'binary')"
      ],
      "metadata": {
        "colab": {
          "base_uri": "https://localhost:8080/"
        },
        "id": "2-sDepqcnlaP",
        "outputId": "884003a0-0971-4ef3-fda8-d6f82df18f07"
      },
      "execution_count": 5,
      "outputs": [
        {
          "output_type": "stream",
          "name": "stdout",
          "text": [
            "Found 20000 images belonging to 2 classes.\n"
          ]
        }
      ]
    },
    {
      "cell_type": "code",
      "source": [
        "test_data = ImageDataGenerator(rescale = 1./255)\n",
        "test_set = test_data.flow_from_directory('/content/data/data/test',\n",
        "                                            target_size = (64, 64),\n",
        "                                            batch_size = 32,\n",
        "                                            class_mode = 'binary')"
      ],
      "metadata": {
        "colab": {
          "base_uri": "https://localhost:8080/"
        },
        "id": "swrunjexn0GS",
        "outputId": "717b8a5e-7d0b-468f-83b9-c51eb3e978f3"
      },
      "execution_count": 6,
      "outputs": [
        {
          "output_type": "stream",
          "name": "stdout",
          "text": [
            "Found 5000 images belonging to 2 classes.\n"
          ]
        }
      ]
    },
    {
      "cell_type": "code",
      "source": [
        "cnn = tf.keras.models.Sequential()"
      ],
      "metadata": {
        "id": "Fdq7-sakoBil"
      },
      "execution_count": 7,
      "outputs": []
    },
    {
      "cell_type": "markdown",
      "source": [
        "# Convolution"
      ],
      "metadata": {
        "id": "Dx_Kkx1noszJ"
      }
    },
    {
      "cell_type": "code",
      "source": [
        "cnn.add(tf.keras.layers.Conv2D(filters=32, kernel_size=3, activation='relu', \n",
        "                               input_shape=[64, 64, 3]))"
      ],
      "metadata": {
        "id": "PamMqy04oK7p"
      },
      "execution_count": 8,
      "outputs": []
    },
    {
      "cell_type": "markdown",
      "source": [
        "# Pooling"
      ],
      "metadata": {
        "id": "14-ok0kVoyfK"
      }
    },
    {
      "cell_type": "code",
      "source": [
        "cnn.add(tf.keras.layers.MaxPool2D(pool_size=2, strides=2))"
      ],
      "metadata": {
        "id": "LQjszefooNvs"
      },
      "execution_count": 9,
      "outputs": []
    },
    {
      "cell_type": "markdown",
      "source": [
        "# Adding a Second Convolution Layer"
      ],
      "metadata": {
        "id": "-BV_6fido3_I"
      }
    },
    {
      "cell_type": "code",
      "source": [
        "cnn.add(tf.keras.layers.Conv2D(filters=32, kernel_size=3, activation='relu'))\n",
        "cnn.add(tf.keras.layers.MaxPool2D(pool_size=2, strides=2))"
      ],
      "metadata": {
        "id": "NN8f4kxKoP2y"
      },
      "execution_count": 10,
      "outputs": []
    },
    {
      "cell_type": "markdown",
      "source": [
        "# Flattening"
      ],
      "metadata": {
        "id": "ntikhB3vo9ab"
      }
    },
    {
      "cell_type": "code",
      "source": [
        "cnn.add(tf.keras.layers.Flatten())"
      ],
      "metadata": {
        "id": "5PrBhIvDoSBW"
      },
      "execution_count": 11,
      "outputs": []
    },
    {
      "cell_type": "markdown",
      "source": [
        "# Full Connection"
      ],
      "metadata": {
        "id": "rjC6PrnfpAJo"
      }
    },
    {
      "cell_type": "code",
      "source": [
        "cnn.add(tf.keras.layers.Dense(units=128, activation='relu'))"
      ],
      "metadata": {
        "id": "-dDsPL_noUh4"
      },
      "execution_count": 12,
      "outputs": []
    },
    {
      "cell_type": "markdown",
      "source": [
        "# Output Layer"
      ],
      "metadata": {
        "id": "f5Ubw98FpE1D"
      }
    },
    {
      "cell_type": "code",
      "source": [
        "cnn.add(tf.keras.layers.Dense(units=1, activation='sigmoid'))"
      ],
      "metadata": {
        "id": "iJ7alXgWocE3"
      },
      "execution_count": 13,
      "outputs": []
    },
    {
      "cell_type": "markdown",
      "source": [
        "# Training the CNN"
      ],
      "metadata": {
        "id": "CNEQI-SVpIuu"
      }
    },
    {
      "cell_type": "code",
      "source": [
        "cnn.compile(optimizer = 'adam', loss = 'binary_crossentropy', metrics = ['accuracy'])"
      ],
      "metadata": {
        "id": "f5Mv5DV0oem9"
      },
      "execution_count": 14,
      "outputs": []
    },
    {
      "cell_type": "code",
      "source": [
        "cnn.fit(x = training_set, validation_data = test_set, epochs = 50)"
      ],
      "metadata": {
        "colab": {
          "base_uri": "https://localhost:8080/"
        },
        "id": "Gdw3b4aRohTZ",
        "outputId": "56845295-5ff8-43ca-d24b-d69cf659588d"
      },
      "execution_count": 15,
      "outputs": [
        {
          "output_type": "stream",
          "name": "stdout",
          "text": [
            "Epoch 1/50\n",
            "625/625 [==============================] - 100s 141ms/step - loss: 0.6240 - accuracy: 0.6480 - val_loss: 0.5434 - val_accuracy: 0.7216\n",
            "Epoch 2/50\n",
            "625/625 [==============================] - 87s 139ms/step - loss: 0.5432 - accuracy: 0.7241 - val_loss: 0.4952 - val_accuracy: 0.7560\n",
            "Epoch 3/50\n",
            "625/625 [==============================] - 87s 140ms/step - loss: 0.4949 - accuracy: 0.7571 - val_loss: 0.4675 - val_accuracy: 0.7810\n",
            "Epoch 4/50\n",
            "625/625 [==============================] - 87s 140ms/step - loss: 0.4710 - accuracy: 0.7723 - val_loss: 0.4367 - val_accuracy: 0.7968\n",
            "Epoch 5/50\n",
            "625/625 [==============================] - 87s 139ms/step - loss: 0.4467 - accuracy: 0.7890 - val_loss: 0.4488 - val_accuracy: 0.7890\n",
            "Epoch 6/50\n",
            "625/625 [==============================] - 96s 154ms/step - loss: 0.4295 - accuracy: 0.7993 - val_loss: 0.4346 - val_accuracy: 0.7944\n",
            "Epoch 7/50\n",
            "625/625 [==============================] - 86s 138ms/step - loss: 0.4094 - accuracy: 0.8123 - val_loss: 0.4944 - val_accuracy: 0.7738\n",
            "Epoch 8/50\n",
            "625/625 [==============================] - 86s 137ms/step - loss: 0.3911 - accuracy: 0.8216 - val_loss: 0.4291 - val_accuracy: 0.7964\n",
            "Epoch 9/50\n",
            "625/625 [==============================] - 86s 138ms/step - loss: 0.3808 - accuracy: 0.8298 - val_loss: 0.4056 - val_accuracy: 0.8166\n",
            "Epoch 10/50\n",
            "625/625 [==============================] - 87s 139ms/step - loss: 0.3670 - accuracy: 0.8317 - val_loss: 0.4014 - val_accuracy: 0.8188\n",
            "Epoch 11/50\n",
            "625/625 [==============================] - 86s 138ms/step - loss: 0.3526 - accuracy: 0.8434 - val_loss: 0.4373 - val_accuracy: 0.8012\n",
            "Epoch 12/50\n",
            "625/625 [==============================] - 86s 138ms/step - loss: 0.3449 - accuracy: 0.8483 - val_loss: 0.4280 - val_accuracy: 0.8098\n",
            "Epoch 13/50\n",
            "625/625 [==============================] - 86s 138ms/step - loss: 0.3235 - accuracy: 0.8605 - val_loss: 0.4468 - val_accuracy: 0.8064\n",
            "Epoch 14/50\n",
            "625/625 [==============================] - 86s 137ms/step - loss: 0.3142 - accuracy: 0.8619 - val_loss: 0.4250 - val_accuracy: 0.8126\n",
            "Epoch 15/50\n",
            "625/625 [==============================] - 86s 137ms/step - loss: 0.3056 - accuracy: 0.8677 - val_loss: 0.4141 - val_accuracy: 0.8176\n",
            "Epoch 16/50\n",
            "625/625 [==============================] - 85s 136ms/step - loss: 0.2939 - accuracy: 0.8710 - val_loss: 0.4113 - val_accuracy: 0.8250\n",
            "Epoch 17/50\n",
            "625/625 [==============================] - 85s 136ms/step - loss: 0.2863 - accuracy: 0.8768 - val_loss: 0.3901 - val_accuracy: 0.8300\n",
            "Epoch 18/50\n",
            "625/625 [==============================] - 86s 138ms/step - loss: 0.2704 - accuracy: 0.8841 - val_loss: 0.4500 - val_accuracy: 0.8142\n",
            "Epoch 19/50\n",
            "625/625 [==============================] - 87s 139ms/step - loss: 0.2594 - accuracy: 0.8910 - val_loss: 0.4302 - val_accuracy: 0.8226\n",
            "Epoch 20/50\n",
            "625/625 [==============================] - 86s 137ms/step - loss: 0.2497 - accuracy: 0.8953 - val_loss: 0.4477 - val_accuracy: 0.8154\n",
            "Epoch 21/50\n",
            "625/625 [==============================] - 86s 137ms/step - loss: 0.2416 - accuracy: 0.8971 - val_loss: 0.4592 - val_accuracy: 0.8132\n",
            "Epoch 22/50\n",
            "625/625 [==============================] - 86s 138ms/step - loss: 0.2349 - accuracy: 0.9028 - val_loss: 0.4567 - val_accuracy: 0.8148\n",
            "Epoch 23/50\n",
            "625/625 [==============================] - 86s 138ms/step - loss: 0.2209 - accuracy: 0.9071 - val_loss: 0.4253 - val_accuracy: 0.8298\n",
            "Epoch 24/50\n",
            "625/625 [==============================] - 86s 138ms/step - loss: 0.2242 - accuracy: 0.9073 - val_loss: 0.4675 - val_accuracy: 0.8154\n",
            "Epoch 25/50\n",
            "625/625 [==============================] - 86s 138ms/step - loss: 0.2073 - accuracy: 0.9144 - val_loss: 0.4778 - val_accuracy: 0.8216\n",
            "Epoch 26/50\n",
            "625/625 [==============================] - 86s 138ms/step - loss: 0.2004 - accuracy: 0.9191 - val_loss: 0.4896 - val_accuracy: 0.8252\n",
            "Epoch 27/50\n",
            "625/625 [==============================] - 94s 150ms/step - loss: 0.1953 - accuracy: 0.9194 - val_loss: 0.4716 - val_accuracy: 0.8270\n",
            "Epoch 28/50\n",
            "625/625 [==============================] - 86s 138ms/step - loss: 0.1880 - accuracy: 0.9230 - val_loss: 0.4649 - val_accuracy: 0.8216\n",
            "Epoch 29/50\n",
            "625/625 [==============================] - 86s 137ms/step - loss: 0.1814 - accuracy: 0.9273 - val_loss: 0.4865 - val_accuracy: 0.8244\n",
            "Epoch 30/50\n",
            "625/625 [==============================] - 86s 137ms/step - loss: 0.1734 - accuracy: 0.9306 - val_loss: 0.5226 - val_accuracy: 0.8220\n",
            "Epoch 31/50\n",
            "625/625 [==============================] - 86s 137ms/step - loss: 0.1675 - accuracy: 0.9338 - val_loss: 0.5221 - val_accuracy: 0.8176\n",
            "Epoch 32/50\n",
            "625/625 [==============================] - 85s 137ms/step - loss: 0.1618 - accuracy: 0.9343 - val_loss: 0.5437 - val_accuracy: 0.8258\n",
            "Epoch 33/50\n",
            "625/625 [==============================] - 85s 137ms/step - loss: 0.1611 - accuracy: 0.9368 - val_loss: 0.5965 - val_accuracy: 0.8136\n",
            "Epoch 34/50\n",
            "625/625 [==============================] - 86s 137ms/step - loss: 0.1520 - accuracy: 0.9397 - val_loss: 0.5520 - val_accuracy: 0.8216\n",
            "Epoch 35/50\n",
            "625/625 [==============================] - 93s 149ms/step - loss: 0.1537 - accuracy: 0.9395 - val_loss: 0.5554 - val_accuracy: 0.8294\n",
            "Epoch 36/50\n",
            "625/625 [==============================] - 86s 137ms/step - loss: 0.1407 - accuracy: 0.9461 - val_loss: 0.5622 - val_accuracy: 0.8264\n",
            "Epoch 37/50\n",
            "625/625 [==============================] - 85s 136ms/step - loss: 0.1411 - accuracy: 0.9459 - val_loss: 0.5526 - val_accuracy: 0.8236\n",
            "Epoch 38/50\n",
            "625/625 [==============================] - 85s 137ms/step - loss: 0.1346 - accuracy: 0.9481 - val_loss: 0.6397 - val_accuracy: 0.8130\n",
            "Epoch 39/50\n",
            "625/625 [==============================] - 85s 137ms/step - loss: 0.1290 - accuracy: 0.9493 - val_loss: 0.6238 - val_accuracy: 0.8194\n",
            "Epoch 40/50\n",
            "625/625 [==============================] - 85s 137ms/step - loss: 0.1279 - accuracy: 0.9496 - val_loss: 0.6177 - val_accuracy: 0.8192\n",
            "Epoch 41/50\n",
            "625/625 [==============================] - 86s 137ms/step - loss: 0.1308 - accuracy: 0.9485 - val_loss: 0.6183 - val_accuracy: 0.8202\n",
            "Epoch 42/50\n",
            "625/625 [==============================] - 88s 140ms/step - loss: 0.1195 - accuracy: 0.9553 - val_loss: 0.6408 - val_accuracy: 0.8140\n",
            "Epoch 43/50\n",
            "625/625 [==============================] - 93s 149ms/step - loss: 0.1191 - accuracy: 0.9542 - val_loss: 0.6135 - val_accuracy: 0.8198\n",
            "Epoch 44/50\n",
            "625/625 [==============================] - 95s 151ms/step - loss: 0.1188 - accuracy: 0.9561 - val_loss: 0.6184 - val_accuracy: 0.8144\n",
            "Epoch 45/50\n",
            "625/625 [==============================] - 92s 147ms/step - loss: 0.1147 - accuracy: 0.9573 - val_loss: 0.7001 - val_accuracy: 0.8170\n",
            "Epoch 46/50\n",
            "625/625 [==============================] - 88s 141ms/step - loss: 0.1198 - accuracy: 0.9531 - val_loss: 0.6326 - val_accuracy: 0.8076\n",
            "Epoch 47/50\n",
            "625/625 [==============================] - 88s 141ms/step - loss: 0.1109 - accuracy: 0.9575 - val_loss: 0.6688 - val_accuracy: 0.8108\n",
            "Epoch 48/50\n",
            "625/625 [==============================] - 87s 139ms/step - loss: 0.1103 - accuracy: 0.9578 - val_loss: 0.6791 - val_accuracy: 0.8190\n",
            "Epoch 49/50\n",
            "625/625 [==============================] - 87s 139ms/step - loss: 0.1051 - accuracy: 0.9615 - val_loss: 0.6373 - val_accuracy: 0.8130\n",
            "Epoch 50/50\n",
            "625/625 [==============================] - 87s 139ms/step - loss: 0.0994 - accuracy: 0.9618 - val_loss: 0.6491 - val_accuracy: 0.8192\n"
          ]
        },
        {
          "output_type": "execute_result",
          "data": {
            "text/plain": [
              "<keras.callbacks.History at 0x7fe4b7ae0fd0>"
            ]
          },
          "metadata": {},
          "execution_count": 15
        }
      ]
    },
    {
      "cell_type": "code",
      "source": [
        "cnn.summary()"
      ],
      "metadata": {
        "colab": {
          "base_uri": "https://localhost:8080/"
        },
        "id": "aL2aCtYqpeJD",
        "outputId": "c7e7c1a3-cae2-46f6-eb49-9dc191fce4cf"
      },
      "execution_count": 17,
      "outputs": [
        {
          "output_type": "stream",
          "name": "stdout",
          "text": [
            "Model: \"sequential\"\n",
            "_________________________________________________________________\n",
            " Layer (type)                Output Shape              Param #   \n",
            "=================================================================\n",
            " conv2d (Conv2D)             (None, 62, 62, 32)        896       \n",
            "                                                                 \n",
            " max_pooling2d (MaxPooling2D  (None, 31, 31, 32)       0         \n",
            " )                                                               \n",
            "                                                                 \n",
            " conv2d_1 (Conv2D)           (None, 29, 29, 32)        9248      \n",
            "                                                                 \n",
            " max_pooling2d_1 (MaxPooling  (None, 14, 14, 32)       0         \n",
            " 2D)                                                             \n",
            "                                                                 \n",
            " flatten (Flatten)           (None, 6272)              0         \n",
            "                                                                 \n",
            " dense (Dense)               (None, 128)               802944    \n",
            "                                                                 \n",
            " dense_1 (Dense)             (None, 1)                 129       \n",
            "                                                                 \n",
            "=================================================================\n",
            "Total params: 813,217\n",
            "Trainable params: 813,217\n",
            "Non-trainable params: 0\n",
            "_________________________________________________________________\n"
          ]
        }
      ]
    },
    {
      "cell_type": "code",
      "source": [
        "!git clone https://github.com/Naman-anand88/Covolutional-Neural-Network_Whether-an-image-contain-Dog-or-Cat ./Testing_Images"
      ],
      "metadata": {
        "colab": {
          "base_uri": "https://localhost:8080/"
        },
        "id": "JygyWSgd9E5M",
        "outputId": "0c4d6597-8f82-4a8b-bde7-6936b7b343d0"
      },
      "execution_count": 29,
      "outputs": [
        {
          "output_type": "stream",
          "name": "stdout",
          "text": [
            "Cloning into './Testing_Images'...\n",
            "remote: Enumerating objects: 28, done.\u001b[K\n",
            "remote: Counting objects:   3% (1/28)\u001b[K\rremote: Counting objects:   7% (2/28)\u001b[K\rremote: Counting objects:  10% (3/28)\u001b[K\rremote: Counting objects:  14% (4/28)\u001b[K\rremote: Counting objects:  17% (5/28)\u001b[K\rremote: Counting objects:  21% (6/28)\u001b[K\rremote: Counting objects:  25% (7/28)\u001b[K\rremote: Counting objects:  28% (8/28)\u001b[K\rremote: Counting objects:  32% (9/28)\u001b[K\rremote: Counting objects:  35% (10/28)\u001b[K\rremote: Counting objects:  39% (11/28)\u001b[K\rremote: Counting objects:  42% (12/28)\u001b[K\rremote: Counting objects:  46% (13/28)\u001b[K\rremote: Counting objects:  50% (14/28)\u001b[K\rremote: Counting objects:  53% (15/28)\u001b[K\rremote: Counting objects:  57% (16/28)\u001b[K\rremote: Counting objects:  60% (17/28)\u001b[K\rremote: Counting objects:  64% (18/28)\u001b[K\rremote: Counting objects:  67% (19/28)\u001b[K\rremote: Counting objects:  71% (20/28)\u001b[K\rremote: Counting objects:  75% (21/28)\u001b[K\rremote: Counting objects:  78% (22/28)\u001b[K\rremote: Counting objects:  82% (23/28)\u001b[K\rremote: Counting objects:  85% (24/28)\u001b[K\rremote: Counting objects:  89% (25/28)\u001b[K\rremote: Counting objects:  92% (26/28)\u001b[K\rremote: Counting objects:  96% (27/28)\u001b[K\rremote: Counting objects: 100% (28/28)\u001b[K\rremote: Counting objects: 100% (28/28), done.\u001b[K\n",
            "remote: Compressing objects: 100% (23/23), done.\u001b[K\n",
            "remote: Total 28 (delta 1), reused 0 (delta 0), pack-reused 0\u001b[K\n",
            "Unpacking objects: 100% (28/28), 4.42 MiB | 7.85 MiB/s, done.\n"
          ]
        }
      ]
    },
    {
      "cell_type": "code",
      "source": [
        "import numpy as np\n",
        "from keras.preprocessing import image\n",
        "\n",
        "test_image = tf.keras.utils.load_img('/content/Testing_Images/Test Images/Image 1.jpg', \n",
        "                            target_size = (64, 64))\n",
        "#test_image = tf.keras.utils.load_img(test_image)\n",
        "test_image = np.expand_dims(test_image, axis = 0)\n",
        "result = cnn.predict(test_image)\n",
        "training_set.class_indices\n",
        "if result[0][0] == 1:\n",
        "  prediction = 'dog'\n",
        "else:\n",
        "  prediction = 'cat'"
      ],
      "metadata": {
        "colab": {
          "base_uri": "https://localhost:8080/"
        },
        "id": "aZZYTqxZ7bJA",
        "outputId": "22639250-b472-46d5-9584-c98f754f063b"
      },
      "execution_count": 30,
      "outputs": [
        {
          "output_type": "stream",
          "name": "stdout",
          "text": [
            "1/1 [==============================] - 0s 22ms/step\n"
          ]
        }
      ]
    },
    {
      "cell_type": "code",
      "source": [
        "print(prediction)"
      ],
      "metadata": {
        "colab": {
          "base_uri": "https://localhost:8080/"
        },
        "id": "GRvZ8fkz-xys",
        "outputId": "e2b37a4f-5b7e-48bc-a087-b052a839023e"
      },
      "execution_count": 31,
      "outputs": [
        {
          "output_type": "stream",
          "name": "stdout",
          "text": [
            "dog\n"
          ]
        }
      ]
    },
    {
      "cell_type": "code",
      "source": [
        "import numpy as np\n",
        "from keras.preprocessing import image\n",
        "\n",
        "test_image = tf.keras.utils.load_img('/content/Testing_Images/Test Images/Image 2.jpg', \n",
        "                            target_size = (64, 64))\n",
        "#test_image = tf.keras.utils.load_img(test_image)\n",
        "test_image = np.expand_dims(test_image, axis = 0)\n",
        "result = cnn.predict(test_image)\n",
        "training_set.class_indices\n",
        "if result[0][0] == 1:\n",
        "  prediction = 'dog'\n",
        "else:\n",
        "  prediction = 'cat'"
      ],
      "metadata": {
        "colab": {
          "base_uri": "https://localhost:8080/"
        },
        "id": "7cFkylai-0Uc",
        "outputId": "b050db31-1a6f-4dd4-8d71-6b03cfa32d64"
      },
      "execution_count": 32,
      "outputs": [
        {
          "output_type": "stream",
          "name": "stdout",
          "text": [
            "1/1 [==============================] - 0s 21ms/step\n"
          ]
        }
      ]
    },
    {
      "cell_type": "code",
      "source": [
        "print(prediction)"
      ],
      "metadata": {
        "colab": {
          "base_uri": "https://localhost:8080/"
        },
        "id": "SBBZf7sf-4LJ",
        "outputId": "9aa89b59-d658-4e71-85b7-22320625bdcc"
      },
      "execution_count": 33,
      "outputs": [
        {
          "output_type": "stream",
          "name": "stdout",
          "text": [
            "cat\n"
          ]
        }
      ]
    }
  ]
}